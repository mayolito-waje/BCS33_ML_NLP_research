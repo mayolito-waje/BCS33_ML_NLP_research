{
 "cells": [
  {
   "cell_type": "markdown",
   "id": "3b642ee9-6bec-46d8-abaf-caa324aa391a",
   "metadata": {},
   "source": [
    "# Filtering of DLSU-D Related Unofficial Freedom Wall Posts Using Logistic Regression"
   ]
  },
  {
   "cell_type": "markdown",
   "id": "6423e828-fb3a-48ab-a0b2-b3eb38ce286c",
   "metadata": {},
   "source": [
    "## Import the necessary libraries\n",
    "\n",
    "Let's import the necessary libraries to create our prototype model:"
   ]
  },
  {
   "cell_type": "code",
   "execution_count": 1,
   "id": "d510b68f-5ee9-4b31-b33d-4eb790c11f7c",
   "metadata": {},
   "outputs": [
    {
     "name": "stderr",
     "output_type": "stream",
     "text": [
      "/home/mayo/anaconda3/lib/python3.9/site-packages/scipy/__init__.py:155: UserWarning: A NumPy version >=1.18.5 and <1.25.0 is required for this version of SciPy (detected version 1.26.0\n",
      "  warnings.warn(f\"A NumPy version >={np_minversion} and <{np_maxversion}\"\n",
      "[nltk_data] Downloading package stopwords to /home/mayo/nltk_data...\n",
      "[nltk_data]   Package stopwords is already up-to-date!\n"
     ]
    },
    {
     "data": {
      "text/plain": [
       "True"
      ]
     },
     "execution_count": 1,
     "metadata": {},
     "output_type": "execute_result"
    }
   ],
   "source": [
    "import pandas as pd\n",
    "import numpy as np\n",
    "import nltk\n",
    "import matplotlib.pyplot as plt\n",
    "from sklearn.metrics import precision_score, recall_score, f1_score, classification_report, confusion_matrix\n",
    "\n",
    "nltk.download('stopwords')"
   ]
  },
  {
   "cell_type": "markdown",
   "id": "69b43509-f316-468f-8f6d-a6cba982ed26",
   "metadata": {},
   "source": [
    "## Loading dataset\n",
    "\n",
    "Let's load our CSV file and turn them into Panda's DataFrame object:"
   ]
  },
  {
   "cell_type": "code",
   "execution_count": 2,
   "id": "8601a96d-a13a-481d-a87e-5348e26d76c6",
   "metadata": {},
   "outputs": [
    {
     "data": {
      "text/html": [
       "<div>\n",
       "<style scoped>\n",
       "    .dataframe tbody tr th:only-of-type {\n",
       "        vertical-align: middle;\n",
       "    }\n",
       "\n",
       "    .dataframe tbody tr th {\n",
       "        vertical-align: top;\n",
       "    }\n",
       "\n",
       "    .dataframe thead th {\n",
       "        text-align: right;\n",
       "    }\n",
       "</style>\n",
       "<table border=\"1\" class=\"dataframe\">\n",
       "  <thead>\n",
       "    <tr style=\"text-align: right;\">\n",
       "      <th></th>\n",
       "      <th>date</th>\n",
       "      <th>post_text</th>\n",
       "      <th>label</th>\n",
       "    </tr>\n",
       "  </thead>\n",
       "  <tbody>\n",
       "    <tr>\n",
       "      <th>0</th>\n",
       "      <td>2023-09-13 18:37:49</td>\n",
       "      <td>ok😂😂😂🫵</td>\n",
       "      <td>0</td>\n",
       "    </tr>\n",
       "    <tr>\n",
       "      <th>1</th>\n",
       "      <td>2023-09-13 15:09:05</td>\n",
       "      <td>hello! keeb peeps sa ud, baka gusto niyo handl...</td>\n",
       "      <td>0</td>\n",
       "    </tr>\n",
       "    <tr>\n",
       "      <th>2</th>\n",
       "      <td>2023-09-13 15:08:03</td>\n",
       "      <td>Hello po may possible po kaya na mag oopen po ...</td>\n",
       "      <td>1</td>\n",
       "    </tr>\n",
       "    <tr>\n",
       "      <th>3</th>\n",
       "      <td>2023-09-13 15:07:03</td>\n",
       "      <td>Baka meron naka pulot ng id sa jfh building ;)</td>\n",
       "      <td>0</td>\n",
       "    </tr>\n",
       "    <tr>\n",
       "      <th>4</th>\n",
       "      <td>2023-09-13 15:06:04</td>\n",
       "      <td>Kung sino man yung guy na nakabunggo ko kasi l...</td>\n",
       "      <td>0</td>\n",
       "    </tr>\n",
       "  </tbody>\n",
       "</table>\n",
       "</div>"
      ],
      "text/plain": [
       "                  date                                          post_text  \\\n",
       "0  2023-09-13 18:37:49                                             ok😂😂😂🫵   \n",
       "1  2023-09-13 15:09:05  hello! keeb peeps sa ud, baka gusto niyo handl...   \n",
       "2  2023-09-13 15:08:03  Hello po may possible po kaya na mag oopen po ...   \n",
       "3  2023-09-13 15:07:03     Baka meron naka pulot ng id sa jfh building ;)   \n",
       "4  2023-09-13 15:06:04  Kung sino man yung guy na nakabunggo ko kasi l...   \n",
       "\n",
       "   label  \n",
       "0      0  \n",
       "1      0  \n",
       "2      1  \n",
       "3      0  \n",
       "4      0  "
      ]
     },
     "execution_count": 2,
     "metadata": {},
     "output_type": "execute_result"
    }
   ],
   "source": [
    "df = pd.read_csv('dataset/csv/posts.csv')\n",
    "df.head()"
   ]
  },
  {
   "cell_type": "markdown",
   "id": "34ede4ca-b88d-48a3-b239-3039e38a4c9f",
   "metadata": {},
   "source": [
    "## Separate posts based on their label\n",
    "\n",
    "Let's separate posts that is concerned with the university and non-concerned."
   ]
  },
  {
   "cell_type": "code",
   "execution_count": 3,
   "id": "2baf266a-4682-4218-8857-4b3241bfee25",
   "metadata": {},
   "outputs": [
    {
     "name": "stdout",
     "output_type": "stream",
     "text": [
      "Related DLSU-D posts length: 285\n",
      "Non DLSU-D related posts length: 1204\n",
      "\n",
      "DLSU-D related posts examples:\n",
      "\t1. Hello po may possible po kaya na mag oopen po ulit yung admission for scholarship sa UD?...\n",
      "\t2. ADMIN PA POST!\n",
      "\n",
      "Small rant lang! San ba pwede mag reklamo ng profs na puro pagawa pero walang proper lesson and puro readings lang? Ang sabi, you read, I read, we lecture. Ang nangyayari ay, I read, N...\n",
      "\t3. angaass may pa-esports convention yung cscs!!!!! PWEAASEE open niyo to all colleges baka naman OTL...\n",
      "\n",
      "Non DLSU-D related posts examples:\n",
      "\t1. ok😂😂😂🫵...\n",
      "\t2. hello! keeb peeps sa ud, baka gusto niyo handlubed harvested 81 pieces cidoo matte linear switches from cidoo v87 for 1700 or can go lower to 1600\n",
      "\n",
      "creamy sound and more on the poppy side, can be thoc...\n",
      "\t3. Baka meron naka pulot ng id sa jfh building ;)...\n"
     ]
    }
   ],
   "source": [
    "related = df[df['label'] == 1]['post_text'].values\n",
    "non_related = df[df['label'] == 0]['post_text'].values\n",
    "\n",
    "print('Related DLSU-D posts length:', len(related))\n",
    "print('Non DLSU-D related posts length:', len(non_related))\n",
    "\n",
    "print('\\nDLSU-D related posts examples:')\n",
    "for i in range(3):\n",
    "    print(f'\\t{i + 1}. {related[i][:200]}...')\n",
    "\n",
    "print('\\nNon DLSU-D related posts examples:')\n",
    "for j in range(3):\n",
    "    print(f'\\t{j + 1}. {non_related[j][:200]}...')"
   ]
  },
  {
   "cell_type": "markdown",
   "id": "bd5fa244-96e3-46f6-878b-eb491a4128b1",
   "metadata": {},
   "source": [
    "## Separate training data from test data\n",
    "\n",
    "We will use the 80% of data based on their class to use for our training and the 20% or our testing. This will help us to check the accuracy of our model better."
   ]
  },
  {
   "cell_type": "code",
   "execution_count": 4,
   "id": "9f58c6b1-cada-4280-b434-96875adc31ab",
   "metadata": {},
   "outputs": [
    {
     "name": "stdout",
     "output_type": "stream",
     "text": [
      "train_x length: 1191\n",
      "train_y length: 1191\n",
      "test_x length: 298\n",
      "test_y length: 298\n"
     ]
    }
   ],
   "source": [
    "related_training_count = int(len(related) * 0.8)\n",
    "non_related_training_count = int(len(non_related) * 0.8)\n",
    "\n",
    "related_train = related[:related_training_count]\n",
    "related_test = related[related_training_count:]\n",
    "non_related_train = non_related[:non_related_training_count]\n",
    "non_related_test = non_related[non_related_training_count:]\n",
    "\n",
    "train_x = np.append(related_train, non_related_train, axis=0)\n",
    "test_x = np.append(related_test, non_related_test, axis=0)\n",
    "train_y = np.append(np.ones((len(related_train), 1)), np.zeros((len(non_related_train), 1)), axis=0)\n",
    "test_y = np.append(np.ones((len(related_test), 1)), np.zeros((len(non_related_test), 1)), axis=0)\n",
    "\n",
    "print('train_x length:', len(train_x))\n",
    "print('train_y length:', len(train_y))\n",
    "print('test_x length:', len(test_x))\n",
    "print('test_y length:', len(test_y))"
   ]
  },
  {
   "cell_type": "markdown",
   "id": "13f543b4-f5db-4846-a7d2-b939c4e40fe3",
   "metadata": {},
   "source": [
    "## Natural Language Preprocessing\n",
    "\n",
    "First, we have to clean our text through the use of preprocessing before extracting features from our text. The steps in preprocessing of text for binary classification is the following:\n",
    "\n",
    "- removing links, mail addresses, etc.\n",
    "- tokenizing texts\n",
    "- lowercasing\n",
    "- removing punctuations\n",
    "- removing stopwords\n",
    "- stemming\n",
    "\n",
    "In addition, we also have to detect if a given word is filipino word so that we can use a separate stemmer to preprocess them.\n",
    "\n",
    "Now let's write a function `process_text` to preprocess our text."
   ]
  },
  {
   "cell_type": "code",
   "execution_count": 5,
   "id": "f3c4f4a9-33e9-44fe-93c8-b7d2a242cfa6",
   "metadata": {},
   "outputs": [],
   "source": [
    "import re\n",
    "import string\n",
    "from nltk.stem import PorterStemmer\n",
    "from nltk.tokenize import TweetTokenizer\n",
    "from nltk.corpus import stopwords\n",
    "import enchant\n",
    "from TagalogStemmerPython.TglStemmer import stem_word as stem_filipino\n",
    "from tl_stopwords import TL_STOP_WORDS as tl_stopwords\n",
    "\n",
    "def process_text(text):\n",
    "    '''Preprocess a text and return a token of stem of words that is relevant for feature extraction\n",
    "    Parameters:\n",
    "        - text: a string to preprocess\n",
    "    '''\n",
    "    en_dict = enchant.Dict(\"en_US\")\n",
    "    eng_stopwords = stopwords.words('english')\n",
    "    stemmer = PorterStemmer()\n",
    "    tokenizer = TweetTokenizer(preserve_case=False, reduce_len=True, strip_handles=True)\n",
    "    \n",
    "    text = re.sub(r'\\b([0-9]*)\\b', '', text) # Remove numbers\n",
    "\n",
    "    text_stems = set()\n",
    "    \n",
    "    text_tokens = tokenizer.tokenize(text)\n",
    "    for token in text_tokens:\n",
    "        if token not in string.punctuation and token not in eng_stopwords and token not in tl_stopwords:\n",
    "            text_stems.add(stemmer.stem(token))\n",
    "            if not en_dict.check(token):\n",
    "                text_stems.add(stem_filipino(token))\n",
    "    \n",
    "    return list(text_stems)"
   ]
  },
  {
   "cell_type": "markdown",
   "id": "ef54c27a-9521-472f-90ea-9a103f6cb263",
   "metadata": {},
   "source": [
    "### Testing `process_text`\n",
    "\n",
    "Let's test our function if it works:"
   ]
  },
  {
   "cell_type": "code",
   "execution_count": 6,
   "id": "3b82febe-c8c5-4ef7-93fe-508736b89aee",
   "metadata": {},
   "outputs": [
    {
     "name": "stdout",
     "output_type": "stream",
     "text": [
      "Non-processed Text:\n",
      "\t-Sa mga mag aapply for org jan, wag naman kayo mag asta na para kayong hindi dumaan sa hs and shs. Simpleng reading comprehension sa mga publications hindi magawa? Tapos magrereklamo kayo, magpapa bebe kayo sa pagcchat. Marunong ba kayong maging professional? yung totoo lang ha. Nasa DLSUD kayo, hindi high school club ang sasalihan nyo. Yang mga orgs na yan, college orgs man o performing arts group, or yung mga auxiliary orgs, matagal na yang nasa sistema ng Lasalle Dasma. Student leaders ang hinahanap, hindi clout chasers. Kung mag iinquire kayo mag practice na kayo maging formal, umasta kayo as COLLEGE STUDENTS. This is for everyone, wag kayo masyadong demanding jan sa replies, wag nyo pangunahan yung instructions na binibigay sa inyo. STUDENT LEADERS yan, hindi lang yan admin na magrereply sayo agad. INTINDIHIN nyo sila and UMINTINDI kayo ng INSTRUCTIONS....\n",
      "\n",
      "\n",
      "Processed Text:\n",
      "\t-\n",
      "['totoo', 'naman', 'asta', 'umasta', 'demand', 'jan', 'ba', 'colleg', 'admin', 'practic', 'pangunahan', 'binibigay', 'sasalihan', 'dumaan', 'intindihin', 'iinquir', 'magawa', 'lasalle', 'wag', 'mag', 'club', 'group', 'intindi', 'public', 'marunong', 'awa', 'hanap', 'student', 'quire', 'chaser', 'hs', 'org', 'perform', 'repli', 'kayo', 'nyo', 'instruct', 'reklamo', 'kayong', 'sistema', 'bigay', 'nasa', 'formal', 'reply', 'yan', 'dasma', 'yung', 'school', 'masyadong', 'comprehens', 'yado', 'inyo', 'hinahanap', 'matagal', 'lasal', 'apply', 'sali', 'umintindi', 'art', 'orgs', 'magrereklamo', 'magpapa', 'shs', 'hindi', 'man', 'aappli', 'agad', 'papa', 'simpleng', 'bebe', 'lang', 'dlsud', 'daan', 'una', 'read', 'high', 'tapo', 'an', 'profession', 'ha', 'pagcchat', 'tindi', 'tapos', 'sayo', 'auxiliari', 'leader', 'sh', 'simple', 'clout', 'matag', 'yang', 'everyon', 'magrerepli']\n"
     ]
    }
   ],
   "source": [
    "sample_post = train_x[10]\n",
    "processed = process_text(sample_post)\n",
    "\n",
    "print(f'Non-processed Text:\\n\\t-{sample_post}...')\n",
    "print('\\n\\nProcessed Text:\\n\\t-')\n",
    "print(processed)"
   ]
  },
  {
   "cell_type": "markdown",
   "id": "4d07acce-28b1-4469-ac87-f27e8b6e4d6b",
   "metadata": {},
   "source": [
    "## Building frequencies\n",
    "\n",
    "Now, we have to build frequencies of how many times a words appeared based on their corresponding labels (related or non-related). For this, we will use the python dictionary to allow for faster searching. Let's build a function `build_frequencies` where it will accept a list of texts and list of labels as parameters. \n",
    "\n",
    "The function will return a dictionary with keys `(word, label)` and their corresponding counts based on how many times they appeared on the entire dataset based on their corresponding label as values."
   ]
  },
  {
   "cell_type": "code",
   "execution_count": 7,
   "id": "32a4ee5d-1104-4f4d-9127-35c25d2af711",
   "metadata": {},
   "outputs": [],
   "source": [
    "def build_frequencies(texts, ys):\n",
    "    '''Return a dictionary with tuple of (word, label) as keys\n",
    "    and values are how many times a word appeared on the dataset\n",
    "    based on their corresponding label.\n",
    "    \n",
    "    Parameters:\n",
    "        - xlist: a list of texts\n",
    "        - ylist: a list of labels corresponding to texts\n",
    "    '''\n",
    "    textslist = np.squeeze(texts).tolist()\n",
    "    labels = np.squeeze(ys).tolist()\n",
    "    \n",
    "    freqs = {}\n",
    "    for label, text in zip(labels, textslist):\n",
    "        for word in process_text(text):\n",
    "            key = (word, label)\n",
    "            freqs[key] = freqs.get(key, 0) + 1\n",
    "    \n",
    "    return freqs"
   ]
  },
  {
   "cell_type": "markdown",
   "id": "bce4d621-2f42-4957-936e-408a8f1f4abd",
   "metadata": {},
   "source": [
    "### Testing `build_frequencies`\n",
    "\n",
    "Let's test the function with just one item list to check if it is working:"
   ]
  },
  {
   "cell_type": "code",
   "execution_count": 8,
   "id": "364fc4f3-f094-4094-a36d-01b917cee8c1",
   "metadata": {},
   "outputs": [
    {
     "name": "stdout",
     "output_type": "stream",
     "text": [
      "{('', 1): 1, ('sana', 1): 1, ('far', 1): 1, ('totoo', 1): 1, ('rn', 1): 1, ('dami', 1): 1, ('sabi', 1): 1, ('iba-iba', 1): 1, ('naman', 1): 1, ('yan', 1): 1, ('yung', 1): 1, ('school', 1): 1, ('aral', 1): 1, ('ako', 1): 1, ('nauumay', 1): 1, ('wala', 1): 1, ('tuturo', 1): 1, ('ayos', 1): 1, ('least', 1): 1, ('lang', 1): 1, ('librari', 1): 1, ('swerte', 1): 1, ('terror', 1): 1, ('facil', 1): 1, ('ba', 1): 1, ('saya', 1): 1, ('nga', 1): 1, ('maayo', 1): 1, ('sinasabi', 1): 1, ('naiini', 1): 1, ('ceat', 1): 1, ('bihirang', 1): 1, ('tumambay', 1): 1, ('swert', 1): 1, ('tapo', 1): 1, ('umay', 1): 1, ('assess', 1): 1, ('binabaha', 1): 1, ('ahaha', 1): 1, ('froshi', 1): 1, ('bihira', 1): 1, ('sumipot', 1): 1, ('baka', 1): 1, ('ewan', 1): 1, ('sipot', 1): 1, ('prof', 1): 1, (':)', 1): 1, ('medyo', 1): 1, ('tapos', 1): 1, ('inis', 1): 1, ('iba', 1): 1, ('classroom', 1): 1, ('mag-ar', 1): 1, ('magtuloy-tuloy', 1): 1, ('nag', 1): 1, ('roshie', 1): 1, ('turo', 1): 1, ('akong', 1): 1, ('hindi', 1): 1, ('tuloy', 1): 1, ('qualiti', 1): 1, ('experi', 1): 1, ('masaya', 1): 1, ('mth', 1): 1, ('tambay', 1): 1, ('baha', 1): 1, ('pls', 0): 1, ('pl', 0): 1, ('chem', 0): 1, ('pagod', 0): 1}\n"
     ]
    }
   ],
   "source": [
    "test_freq_x = [related_train[5], non_related_train[5]]\n",
    "test_freq_y = [1, 0]\n",
    "\n",
    "print(build_frequencies(test_freq_x, test_freq_y))"
   ]
  },
  {
   "cell_type": "markdown",
   "id": "62b0ceb4-2031-4988-9660-cf9e0cc33a30",
   "metadata": {},
   "source": [
    "Now that it works, let's test it on our whole training set"
   ]
  },
  {
   "cell_type": "code",
   "execution_count": 9,
   "id": "8974c57e-d6c7-4235-91d1-8e59c4234e95",
   "metadata": {},
   "outputs": [
    {
     "name": "stdout",
     "output_type": "stream",
     "text": [
      "Total length of frequencies dictionary: 9527\n"
     ]
    }
   ],
   "source": [
    "freqs = build_frequencies(train_x, train_y)\n",
    "\n",
    "print('Total length of frequencies dictionary:', len(freqs))"
   ]
  },
  {
   "cell_type": "markdown",
   "id": "6ac59fcd-15dd-4964-b081-591c13fb9db5",
   "metadata": {},
   "source": [
    "## Extracting features\n",
    "\n",
    "Now, let's extract the features of the post by writing function `extract_features`. The function will return a list with 3 elements: \n",
    "\n",
    "- the first element is the bias (which has value 1)\n",
    "- the second element is the number of times where the words of the text appear in frequencies dictionary with DLSU-D related post labels\n",
    "- the last element is the number of times where the words of the text appear in frequencies dictionary with non DLSU-D related post labels"
   ]
  },
  {
   "cell_type": "code",
   "execution_count": 10,
   "id": "9714b39b-7fac-4ea9-8b5c-c1f61b6966c1",
   "metadata": {},
   "outputs": [],
   "source": [
    "def extract_features(text, freqs):\n",
    "    '''Extract features from preprocessed text.\n",
    "    Parameters:\n",
    "        - text: a string, particularly a mail\n",
    "        - freqs: a dictionary with a using key (word, label) which contains \n",
    "        counts or how many times a word appeard based on label\n",
    "    '''\n",
    "    tokens = process_text(text)\n",
    "    \n",
    "    features = np.zeros(3)\n",
    "    features[0] = 1\n",
    "    \n",
    "    for word in tokens:\n",
    "        features[1] += freqs.get((word, 1.0), 0)\n",
    "        features[2] += freqs.get((word, 0), 0)\n",
    "        \n",
    "    features = features[None, :] # add batch dimension for further processing\n",
    "    assert(features.shape == (1, 3))\n",
    "    return features"
   ]
  },
  {
   "cell_type": "markdown",
   "id": "bbd1652c-597f-4d37-85a6-3c4ac739ddf4",
   "metadata": {},
   "source": [
    "### Testing `extract_features`\n",
    "\n",
    "Now let's test the function with the previous sample post we tested to check that it works correctly:"
   ]
  },
  {
   "cell_type": "code",
   "execution_count": 11,
   "id": "44dd0228-84b3-448a-b8a1-2c07712644e6",
   "metadata": {},
   "outputs": [
    {
     "name": "stdout",
     "output_type": "stream",
     "text": [
      "Sample Post:\n",
      "\t-Sa mga mag aapply for org jan, wag naman kayo mag asta na para kayong hindi dumaan sa hs and shs. Simpleng reading comprehension sa mga publications hindi magawa? Tapos magrereklamo kayo, magpapa bebe kayo sa pagcchat. Marunong ba kayong maging professional? yung totoo lang ha. Nasa DLSUD kayo, hindi high school club ang sasalihan nyo. Yang mga orgs na yan, college orgs man o performing arts group, or yung mga auxiliary orgs, matagal na yang nasa sistema ng Lasalle Dasma. Student leaders ang hinahanap, hindi clout chasers. Kung mag iinquire kayo mag practice na kayo maging formal, umasta kayo as COLLEGE STUDENTS. This is for everyone, wag kayo masyadong demanding jan sa replies, wag nyo pangunahan yung instructions na binibigay sa inyo. STUDENT LEADERS yan, hindi lang yan admin na magrereply sayo agad. INTINDIHIN nyo sila and UMINTINDI kayo ng INSTRUCTIONS....\n",
      "\n",
      "Feature: [[1.000e+00 9.700e+02 1.816e+03]]\n"
     ]
    }
   ],
   "source": [
    "print(f'Sample Post:\\n\\t-{sample_post}...')\n",
    "print('\\nFeature:', extract_features(sample_post, freqs))"
   ]
  },
  {
   "cell_type": "markdown",
   "id": "8b612c10-f50f-4eef-86cf-b87431800a9c",
   "metadata": {},
   "source": [
    "## Collect features and visualize\n",
    "\n",
    "Let's collect the features of our data and visualize them with scatter plot."
   ]
  },
  {
   "cell_type": "code",
   "execution_count": 12,
   "id": "6c30a760-9c4f-4cb1-ab6f-5d49d84a214b",
   "metadata": {},
   "outputs": [],
   "source": [
    "X = np.zeros((len(train_x), 3))\n",
    "for i in range(len(train_x)):\n",
    "    X[i, :] = extract_features(train_x[i], freqs)\n",
    "\n",
    "Y = train_y"
   ]
  },
  {
   "cell_type": "code",
   "execution_count": 13,
   "id": "89e23acd-3bf8-4d51-8db9-686b097c7b00",
   "metadata": {},
   "outputs": [
    {
     "data": {
      "text/plain": [
       "Text(0, 0.5, 'Spams')"
      ]
     },
     "execution_count": 13,
     "metadata": {},
     "output_type": "execute_result"
    },
    {
     "data": {
      "image/png": "[encoded data removed]",
      "text/plain": [
       "<Figure size 800x800 with 1 Axes>"
      ]
     },
     "metadata": {},
     "output_type": "display_data"
    }
   ],
   "source": [
    "fig, ax = plt.subplots(figsize = (8, 8))\n",
    "\n",
    "colors = ['green', 'red']\n",
    "\n",
    "ax.scatter(X[:, 2], X[:, 1], c=[colors[int(np.squeeze(k))] for k in Y], s = 0.1) \n",
    "plt.xlabel('Non-Spams')\n",
    "plt.ylabel('Spams')"
   ]
  },
  {
   "cell_type": "markdown",
   "id": "c37ce020-1289-4f6e-9c82-cebbf6ae99bb",
   "metadata": {},
   "source": [
    "As you can see from the figure, there are quite distinctions for words that appear in DLSU-D related Freedom Wall posts and non DLSU-D related Freedom Wall posts."
   ]
  },
  {
   "cell_type": "markdown",
   "id": "77f25508-4e33-46c6-82e8-9a20dc5d8737",
   "metadata": {},
   "source": [
    "## Sigmoid Function\n",
    "\n",
    "We will use the sigmoid function to predict our text in which it will return number between 0 and 1. The formula for sigmoid is as follows:\n",
    "\n",
    "$$ h(z) = \\frac{1}{1+\\exp^{-z}} \\tag{1}$$\n",
    "$$z = \\theta_0 x_0 + \\theta_1 x_1 + \\theta_2 x_2 + ... \\theta_N x_N$$\n",
    "\n",
    "Let's refer to z as 'logits'. We can calculate the logits in python by applying **dot product** to vectors $\\theta$ and $x$:\n",
    "\n",
    "$$z = \\theta x$$\n",
    "\n",
    "The shape of $z$ will be `(m, 1)` and applying the sigmoid function $h(z)$ will also return $h$ with shape `(m, 1)`\n",
    "* $m$ is the number of training samples\n",
    "\n",
    "Now let's implement a function `sigmoid` to calculate the sigmoid function."
   ]
  },
  {
   "cell_type": "code",
   "execution_count": 14,
   "id": "e7b95ec6-671f-4c27-aa87-002e36bd7458",
   "metadata": {},
   "outputs": [],
   "source": [
    "def sigmoid(z):\n",
    "    '''Return the sigmoid activation of logit\n",
    "    Parameter:\n",
    "        - z: a logit, calculated by multiplying vector theta and vector x\n",
    "    '''\n",
    "    h = 1 / (1 + np.exp(-z))\n",
    "    return h"
   ]
  },
  {
   "cell_type": "code",
   "execution_count": 15,
   "id": "e38219ab-1e98-4bd7-99d4-2c4eb14f2659",
   "metadata": {},
   "outputs": [
    {
     "data": {
      "text/plain": [
       "Text(0.5, 1.0, 'Sigmoid Function')"
      ]
     },
     "execution_count": 15,
     "metadata": {},
     "output_type": "execute_result"
    },
    {
     "data": {
      "image/png": "[encoded data removed]",
      "text/plain": [
       "<Figure size 400x400 with 1 Axes>"
      ]
     },
     "metadata": {},
     "output_type": "display_data"
    }
   ],
   "source": [
    "fg, ax = plt.subplots(figsize = (4, 4))\n",
    "\n",
    "zs = np.linspace(-10, 10)\n",
    "\n",
    "ax.plot(zs, [sigmoid(z) for z in zs], color='blue')\n",
    "plt.xlabel('z')\n",
    "plt.ylabel('h(z)')\n",
    "plt.title('Sigmoid Function')"
   ]
  },
  {
   "cell_type": "markdown",
   "id": "65053040-ee7f-443c-b8c6-071c2ae5a0b5",
   "metadata": {},
   "source": [
    "## Cost Function\n",
    "\n",
    "The cost function will help us calculate the loss of prediction, or how well a machine learning model performs by finding the difference between predicted and actual outputs. Here is the formula for the cost function in a logistic regression:\n",
    "\n",
    "$$J(\\theta) = -\\frac{1}{m} \\sum_{i=1}^m y^{(i)}\\log (h(z(\\theta)^{(i)})) + (1-y^{(i)})\\log (1-h(z(\\theta)^{(i)}))\\tag{5} $$\n",
    "* $m$: the number of training examples\n",
    "* $y^{(i)}$: the true label of training example 'i'\n",
    "* $h(z^{(i)})$: the sigmoid function or model's prediction for training example 'i'\n",
    "\n",
    "We can perform matrix multiplication to calculate the cost function which will give us this formula:\n",
    "\n",
    "$$J = \\frac{-1}{m} \\times \\left(\\mathbf{y}^T \\cdot log(\\mathbf{h}) + \\mathbf{(1-y)}^T \\cdot log(\\mathbf{1-h}) \\right)$$\n",
    "* $y$ and $h$ both have shape (m, 1), so we have to transpose the vector $y$ to the left to perform matrix multiplication with dot product\n",
    "* $z$ is calculated by multiplying the feature matrix $x$ with the weight vector 'theta'. $z = x\\theta$\n",
    "* $h$ is calculated with applying sigmoid to each element 'z'. It has a shape of (m, 1)"
   ]
  },
  {
   "cell_type": "markdown",
   "id": "df50f411-6bd1-47b4-b46e-2f44ebd9e61e",
   "metadata": {},
   "source": [
    "## Gradient Descent\n",
    "\n",
    "We will use gradient descent to train our model. The gradient descent will take the derivative of the cost function which is the gradient. With the help of gradient descent, over time we will reduce the cost in which it will make our model more accurate. The learning rate or $\\alpha$ is also crucial and we should pick the right value in order for our gradient descent to not step too much or else we will pass over the global minima of the cost function.\n",
    "\n",
    "Gradient descent will return an improved parameter $\\theta$ that will be helpful in making more accurate prediction.\n",
    "\n",
    "The formula for the gradient descent is as follows:\n",
    "$$\\theta_j = \\theta_j - \\alpha \\times \\nabla_{\\theta_j}J(\\theta) $$\n",
    "\n",
    "$\\nabla_{\\theta_j}J(\\theta)$ is the derivative of the cost function. By implementing this with python, we can use the following formula:\n",
    "$$\\mathbf{\\theta} = \\mathbf{\\theta} - \\frac{\\alpha}{m} \\times \\left( \\mathbf{x}^T \\cdot \\left( \\mathbf{h-y} \\right) \\right)$$\n",
    "* We have to transpose $x$ on the left because it's dimension is (m, n+1). Both $h$ and $y$ have shape (m, 1). Then perform matrix operation.\n",
    "\n",
    "Now let's implement function `gradient_descent`:"
   ]
  },
  {
   "cell_type": "code",
   "execution_count": 16,
   "id": "6f307332-185a-4556-8f14-5ed422c62db4",
   "metadata": {},
   "outputs": [],
   "source": [
    "def gradient_descent(x, y, theta, alpha, iter_count):\n",
    "    '''Perform gradient descent over n number of iterations.\n",
    "    Parameters:\n",
    "        - x: list of features\n",
    "        - y: list of labels\n",
    "        - theta: weight parameters\n",
    "        - alpha: learning rate\n",
    "        - iter_count: number of iterations\n",
    "    '''\n",
    "    m = np.shape(x)[0]\n",
    "    \n",
    "    for i in range(0, iter_count):\n",
    "        z = np.dot(x, theta)\n",
    "        h = sigmoid(z)\n",
    "        \n",
    "        # calculate the cost function\n",
    "        J = (-1.0 * (np.dot(y.T, np.log(h)) + np.dot((1 - y).T, np.log(1 - h)))) / m\n",
    "        # print(f'#{i} Cost: {float(J)}')\n",
    "\n",
    "        # update the weights theta\n",
    "        theta = theta - alpha / m * np.dot(x.T, h - y)\n",
    "    \n",
    "    J = float(np.squeeze(J))\n",
    "    return J, theta"
   ]
  },
  {
   "cell_type": "markdown",
   "id": "73c789cd-58f0-43e5-a929-8c3f9915b7d5",
   "metadata": {},
   "source": [
    "## Training logistic regression model\n",
    "\n",
    "We already had extracted the features of x and also we have the list of true labels y. Now let's train our model to get optimal parameters that we will use to predict our testing dataset."
   ]
  },
  {
   "cell_type": "code",
   "execution_count": 17,
   "id": "7e286279-2fc6-4a9a-932a-e405d2ded11b",
   "metadata": {},
   "outputs": [
    {
     "name": "stdout",
     "output_type": "stream",
     "text": [
      "Post-training cost: 0.27961192722152284\n",
      "Post-training parameters or weights: [-0.00368053, 0.06976016, -0.02974936]\n"
     ]
    }
   ],
   "source": [
    "J, theta = gradient_descent(X, Y, np.zeros((3, 1)), 1e-5, 5000)\n",
    "print(f'Post-training cost: {J}')\n",
    "print(f'Post-training parameters or weights: {[round(t, 8) for t in np.squeeze(theta)]}')"
   ]
  },
  {
   "cell_type": "markdown",
   "id": "2424ecea-45b1-4522-a963-859e9847b6b8",
   "metadata": {},
   "source": [
    "## Predicting post\n",
    "\n",
    "Now is the time to test our logistic regression and test inputs the model has not seen yet.\n",
    "Let's create a function called `predict'"
   ]
  },
  {
   "cell_type": "code",
   "execution_count": 18,
   "id": "4e4fc1df-f305-4eca-a581-a7cb06651690",
   "metadata": {},
   "outputs": [],
   "source": [
    "def predict(post, freqs, theta):\n",
    "    '''Predict a post and return their classification score.\n",
    "    Parameters:\n",
    "        - post: a string, particularly a post\n",
    "        - freqs: a dictionary with a using key (word, label) which contains \n",
    "        counts or how many times a word appeard based on label\n",
    "        - theta: weight parameters\n",
    "    '''\n",
    "    x = extract_features(post, freqs)\n",
    "    z = np.dot(x, theta)\n",
    "    y_pred = sigmoid(z)\n",
    "    return y_pred"
   ]
  },
  {
   "cell_type": "code",
   "execution_count": 28,
   "id": "861c476b-0a8d-4d06-b236-986c0953a5aa",
   "metadata": {},
   "outputs": [
    {
     "name": "stdout",
     "output_type": "stream",
     "text": [
      "post: I'm from BIO31.\n",
      "\n",
      "Sana urgent din ma-post. I'm calling the attention of all my blockmates.\n",
      "\n",
      "I'm a full scholar here and right now, my grade in Biophysics Lec is 56.00, which means matatanggal na po lahat ng scholarship ko inside and outside the university.\n",
      "\n",
      "Siguro iniisip ninyo, \"Bakit ka pa nag-La Salle, wala naman pala kayong pera?\".\n",
      "\n",
      "If only ISee more knew na may ganitong prof pala, sana nga po hindi na lang ako nag-La Salle Dasma.\n",
      "\n",
      "I know that from the past years, hindi tayo masyadong nagkakaisa, pero please pwede ninyo ba akong tulungan? :'( Please, guys, nagmamakaawa ako na sana samahan ninyo akong kumilos regarding this.\n",
      "\n",
      "And to those who are reading this, Idk what to do anymore hindi naman po ako bobo sa math.\n",
      "\n",
      "And for how many years, ako po nagpapaaral sa sarili ko through scholarship that's why I don't know paano nangyari ito.\n",
      "Sana naging considerate yung prof kasi lahat kami it's either nasa line of 5 and saktong 60 lang ang grade.\n",
      "\n",
      "There's clearly a problem sa prof....\n",
      "true label: 1.0\n",
      "score: 0.004343027289949091\n"
     ]
    }
   ],
   "source": [
    "post = test_x[5]\n",
    "predicted = np.squeeze(predict(post, freqs, theta))\n",
    "print(f'post: {post}...')\n",
    "print(f'true label: {np.squeeze(test_y)[2]}')\n",
    "print(f'score: {predicted}')"
   ]
  },
  {
   "cell_type": "markdown",
   "id": "9fa0c17f-e9d8-4331-a4f6-f64eaf69b6bf",
   "metadata": {},
   "source": [
    "## Testing logistic regression\n",
    "\n",
    "Let's test our logistic regression and calculate its accuracy"
   ]
  },
  {
   "cell_type": "code",
   "execution_count": 20,
   "id": "e58bf98f-2a00-43b4-9208-70e6366f585e",
   "metadata": {},
   "outputs": [],
   "source": [
    "pred_y = []\n",
    "\n",
    "for post in test_x:\n",
    "    y_hat = predict(post, freqs, theta)\n",
    "    \n",
    "    if y_hat > 0.5:\n",
    "        pred_y.append(1.0)\n",
    "    else:\n",
    "        pred_y.append(0)"
   ]
  },
  {
   "cell_type": "code",
   "execution_count": 21,
   "id": "a76d000b-8f71-446c-b767-092ee7910881",
   "metadata": {},
   "outputs": [
    {
     "name": "stdout",
     "output_type": "stream",
     "text": [
      "Precision Score: 0.8221476510067114\n"
     ]
    }
   ],
   "source": [
    "print('Precision Score:', precision_score(test_y, pred_y, average='micro'))"
   ]
  },
  {
   "cell_type": "code",
   "execution_count": 22,
   "id": "ea589f3f-8cb8-4872-b5bb-efc2f656248a",
   "metadata": {},
   "outputs": [
    {
     "name": "stdout",
     "output_type": "stream",
     "text": [
      "Recall Score: 0.8221476510067114\n"
     ]
    }
   ],
   "source": [
    "print('Recall Score:', recall_score(test_y, pred_y, average='micro'))"
   ]
  },
  {
   "cell_type": "code",
   "execution_count": 23,
   "id": "3e50512c-68ea-4832-b1b8-621ac158c9b6",
   "metadata": {},
   "outputs": [
    {
     "name": "stdout",
     "output_type": "stream",
     "text": [
      "F1 Score: 0.8221476510067114\n"
     ]
    }
   ],
   "source": [
    "print('F1 Score:', f1_score(test_y, pred_y, average='micro'))"
   ]
  },
  {
   "cell_type": "code",
   "execution_count": 24,
   "id": "a864ca55-f477-41dc-8b8c-49212ad8f763",
   "metadata": {},
   "outputs": [
    {
     "name": "stdout",
     "output_type": "stream",
     "text": [
      "Classification Report:\n",
      "\n",
      "              precision    recall  f1-score   support\n",
      "\n",
      "         0.0       0.88      0.90      0.89       241\n",
      "         1.0       0.54      0.49      0.51        57\n",
      "\n",
      "    accuracy                           0.82       298\n",
      "   macro avg       0.71      0.70      0.70       298\n",
      "weighted avg       0.82      0.82      0.82       298\n",
      "\n"
     ]
    }
   ],
   "source": [
    "print('Classification Report:\\n')\n",
    "print(classification_report(test_y, pred_y))"
   ]
  },
  {
   "cell_type": "code",
   "execution_count": 25,
   "id": "7402ddd7-1357-4416-b25b-0fabdc1e3b21",
   "metadata": {},
   "outputs": [
    {
     "name": "stdout",
     "output_type": "stream",
     "text": [
      "Confusion Matrix:\n",
      "\n",
      "[[217  24]\n",
      " [ 29  28]]\n"
     ]
    }
   ],
   "source": [
    "print('Confusion Matrix:\\n')\n",
    "print(confusion_matrix(test_y, pred_y))"
   ]
  },
  {
   "cell_type": "code",
   "execution_count": null,
   "id": "45ae656d-4b26-4d37-8184-480bdba55b36",
   "metadata": {},
   "outputs": [],
   "source": []
  }
 ],
 "metadata": {
  "kernelspec": {
   "display_name": "Python 3 (ipykernel)",
   "language": "python",
   "name": "python3"
  },
  "language_info": {
   "codemirror_mode": {
    "name": "ipython",
    "version": 3
   },
   "file_extension": ".py",
   "mimetype": "text/x-python",
   "name": "python",
   "nbconvert_exporter": "python",
   "pygments_lexer": "ipython3",
   "version": "3.9.13"
  }
 },
 "nbformat": 4,
 "nbformat_minor": 5
}
